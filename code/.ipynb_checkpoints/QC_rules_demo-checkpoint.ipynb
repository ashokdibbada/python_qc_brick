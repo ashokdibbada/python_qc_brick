{
 "cells": [
  {
   "cell_type": "markdown",
   "metadata": {
    "scrolled": true
   },
   "source": [
    "# Notebook for QC addressing data quality, column format and business rules"
   ]
  },
  {
   "cell_type": "markdown",
   "metadata": {},
   "source": [
    "### Note\n",
    "This notebook deals with demo of QC module - address issues and additions to <a>ashoksubbu99@gmail.com</a>\n",
    "### Sample scenario - on how to use this module\n",
    "\n",
    "**Scenario: ** List the type of customers whose spend is less than lower_bound <br/>\n",
    "**Steps: **\n",
    "    * data_quality(data_frame,[\"spend_value\",\"type\"],\"summary\") - get summary of customer types and spend_value\n",
    "    * agg_check(data_frame,\"spend_value\",[lower_bound,upper_bound],'range') - creates file for spend less than lower bound\n",
    "    * check_csv = pd.read_csv(\"path_to_generated_file\") - reads the above generated file\n",
    "    * agg_check(check_csv,\"type\",[],'levels') - returns the type of columns"
   ]
  },
  {
   "cell_type": "markdown",
   "metadata": {},
   "source": [
    "### Demo with LnE transaction data - covers important aspects of the module\n",
    "#### Importing required modules and dataset to perform QC"
   ]
  },
  {
   "cell_type": "code",
   "execution_count": 3,
   "metadata": {},
   "outputs": [
    {
     "name": "stdout",
     "output_type": "stream",
     "text": [
      "Index([u'customer_id', u'item_id', u'bill_number', u'quantity', u'spend_value',\n",
      "       u'purchase_date', u'file_name'],\n",
      "      dtype='object')\n"
     ]
    }
   ],
   "source": [
    "%matplotlib inline\n",
    "\n",
    "import matplotlib\n",
    "from QC_rules import data_quality, groupby_check, format_check, agg_check, Check_with_time\n",
    "from sanitize_book import notebook_summary, validate_book_on_load , test_status_plot\n",
    "import numpy as np\n",
    "import pandas as pd\n",
    "from IPython.display import display,HTML\n",
    "import matplotlib.pyplot as plt\n",
    "\n",
    "# Please make note of the format of path to the file\n",
    "file_path = \"../data/transaction.csv\"\n",
    "final_time_frame = pd.DataFrame(columns=['Test','Result','Time'])\n",
    "\n",
    "data_frame = validate_book_on_load(file_path)\n",
    "if isinstance(data_frame, pd.DataFrame):\n",
    "    print(data_frame.columns)\n",
    "else:\n",
    "    print(data_frame)"
   ]
  },
  {
   "cell_type": "markdown",
   "metadata": {},
   "source": [
    "### Data Quality module -  returns NULL %, unique %, summary based on type of columns\n",
    "* **For NULL % of columns -** ```data_quality(data_frame,['col1','col2','col3'....],\"NULL\")``` <br/>\n",
    "* **For unique % of columns -** ``` data_quality(data_frame,['col1','col2','col3'....],\"unique\")``` <br/>\n",
    "* **For summary of columns -** ``` data_quality(data_frame,['col1','col2','col3'....],\"summary\")``` <br/>"
   ]
  },
  {
   "cell_type": "code",
   "execution_count": 14,
   "metadata": {},
   "outputs": [
    {
     "data": {
      "text/plain": [
       "{'bill_number': '99.5%',\n",
       " 'customer_id': '14.5%',\n",
       " 'file_name': '6.0%',\n",
       " 'item_id': '82.5%',\n",
       " 'purchase_date': '100.0%',\n",
       " 'quantity': '2.0%',\n",
       " 'spend_value': '47.0%'}"
      ]
     },
     "execution_count": 14,
     "metadata": {},
     "output_type": "execute_result"
    }
   ],
   "source": [
    "#data_quality(data_frame,list(data_frame.columns),\"summary\")\n",
    "time_frame, quality_output = Check_with_time(data_frame,\"quality\",list(data_frame.columns),[],[],\"unique\")\n",
    "#final_time_frame =  final_time_frame.append(time_frame)\n",
    "quality_output"
   ]
  },
  {
   "cell_type": "markdown",
   "metadata": {},
   "source": [
    "### Format Check module - checks if the column is following particular format\n",
    "** Please find sample formats below, Complete regex reference <a href=\"https://www.debuggex.com/cheatsheet/regex/python\">here</a> ** <br/>\n",
    "\n",
    "* Word - '\\w+'\n",
    "* Number - '\\d+'\n",
    "* Email - '[^@]+@[^@]+\\.[^@]+'\n",
    "* Double space - ' +'\n",
    "* Year - '%Y-%m-%d' if year in (yyyy-mm-dd) <br/>\n",
    "\n",
    "If in doubt, use *data_frame[column].head(10)* to check for sample rows of column"
   ]
  },
  {
   "cell_type": "code",
   "execution_count": 15,
   "metadata": {},
   "outputs": [
    {
     "data": {
      "text/plain": [
       "'Passed'"
      ]
     },
     "execution_count": 15,
     "metadata": {},
     "output_type": "execute_result"
    }
   ],
   "source": [
    "#format_check(data_frame,\"processing_date\",\"%m/%d/%Y\")\n",
    "time_frame, format_output = Check_with_time(data_frame,\"format\",\"purchase_date\",[],[],\"%m/%d/%Y\")\n",
    "final_time_frame =  final_time_frame.append(time_frame)\n",
    "format_output"
   ]
  },
  {
   "cell_type": "markdown",
   "metadata": {},
   "source": [
    "### Aggregate module - Range checks at a column level \n",
    "* **Get count at different levels of column -** ```agg_check(data_frame,\"column\",[],\"levels\")```\n",
    "* **If column is boun by range of values -** ```agg_check(data_frame,\"column\",[lower_bound,upper_bound],\"range\")```\n",
    "    * values to be in numeric,date (yyyy-mm-dd) format\n",
    "    * If test fails, saves the csv file with error rows to current working directory\n",
    "* ** Check if aggregate of a column is bound by range - **```agg_check(data_frame,\"column\",[lower_bound,upper_bound],argument)```\n",
    "    * currently, argument supports \"sum\" and \"count\" checks\n",
    "    * supports only numeric columns\n"
   ]
  },
  {
   "cell_type": "code",
   "execution_count": 16,
   "metadata": {},
   "outputs": [
    {
     "data": {
      "text/html": [
       "<div>\n",
       "<style scoped>\n",
       "    .dataframe tbody tr th:only-of-type {\n",
       "        vertical-align: middle;\n",
       "    }\n",
       "\n",
       "    .dataframe tbody tr th {\n",
       "        vertical-align: top;\n",
       "    }\n",
       "\n",
       "    .dataframe thead th {\n",
       "        text-align: right;\n",
       "    }\n",
       "</style>\n",
       "<table border=\"1\" class=\"dataframe\">\n",
       "  <thead>\n",
       "    <tr style=\"text-align: right;\">\n",
       "      <th></th>\n",
       "      <th>file_name</th>\n",
       "      <th>count of file_name</th>\n",
       "    </tr>\n",
       "  </thead>\n",
       "  <tbody>\n",
       "    <tr>\n",
       "      <th>0</th>\n",
       "      <td>April</td>\n",
       "      <td>16</td>\n",
       "    </tr>\n",
       "    <tr>\n",
       "      <th>1</th>\n",
       "      <td>August</td>\n",
       "      <td>16</td>\n",
       "    </tr>\n",
       "    <tr>\n",
       "      <th>2</th>\n",
       "      <td>December</td>\n",
       "      <td>17</td>\n",
       "    </tr>\n",
       "    <tr>\n",
       "      <th>3</th>\n",
       "      <td>February</td>\n",
       "      <td>17</td>\n",
       "    </tr>\n",
       "    <tr>\n",
       "      <th>4</th>\n",
       "      <td>January</td>\n",
       "      <td>17</td>\n",
       "    </tr>\n",
       "    <tr>\n",
       "      <th>5</th>\n",
       "      <td>July</td>\n",
       "      <td>16</td>\n",
       "    </tr>\n",
       "    <tr>\n",
       "      <th>6</th>\n",
       "      <td>June</td>\n",
       "      <td>16</td>\n",
       "    </tr>\n",
       "    <tr>\n",
       "      <th>7</th>\n",
       "      <td>March</td>\n",
       "      <td>17</td>\n",
       "    </tr>\n",
       "    <tr>\n",
       "      <th>8</th>\n",
       "      <td>May</td>\n",
       "      <td>16</td>\n",
       "    </tr>\n",
       "    <tr>\n",
       "      <th>9</th>\n",
       "      <td>November</td>\n",
       "      <td>17</td>\n",
       "    </tr>\n",
       "    <tr>\n",
       "      <th>10</th>\n",
       "      <td>October</td>\n",
       "      <td>17</td>\n",
       "    </tr>\n",
       "    <tr>\n",
       "      <th>11</th>\n",
       "      <td>September</td>\n",
       "      <td>18</td>\n",
       "    </tr>\n",
       "  </tbody>\n",
       "</table>\n",
       "</div>"
      ],
      "text/plain": [
       "    file_name  count of file_name\n",
       "0       April                  16\n",
       "1      August                  16\n",
       "2    December                  17\n",
       "3    February                  17\n",
       "4     January                  17\n",
       "5        July                  16\n",
       "6        June                  16\n",
       "7       March                  17\n",
       "8         May                  16\n",
       "9    November                  17\n",
       "10    October                  17\n",
       "11  September                  18"
      ]
     },
     "execution_count": 16,
     "metadata": {},
     "output_type": "execute_result"
    }
   ],
   "source": [
    "#agg_check(data_frame,\"file_name\",[],\"levels\")\n",
    "time_frame, agg_output = Check_with_time(data_frame,\"aggregate\",\"file_name\",[],[],\"levels\")\n",
    "#final_time_frame =  final_time_frame.append(time_frame)\n",
    "agg_output"
   ]
  },
  {
   "cell_type": "code",
   "execution_count": 17,
   "metadata": {},
   "outputs": [
    {
     "data": {
      "text/html": [
       "<div>\n",
       "<style scoped>\n",
       "    .dataframe tbody tr th:only-of-type {\n",
       "        vertical-align: middle;\n",
       "    }\n",
       "\n",
       "    .dataframe tbody tr th {\n",
       "        vertical-align: top;\n",
       "    }\n",
       "\n",
       "    .dataframe thead th {\n",
       "        text-align: right;\n",
       "    }\n",
       "</style>\n",
       "<table border=\"1\" class=\"dataframe\">\n",
       "  <thead>\n",
       "    <tr style=\"text-align: right;\">\n",
       "      <th></th>\n",
       "      <th>Result</th>\n",
       "      <th>Test</th>\n",
       "    </tr>\n",
       "  </thead>\n",
       "  <tbody>\n",
       "    <tr>\n",
       "      <th>0</th>\n",
       "      <td>Failed</td>\n",
       "      <td>spend_value range greater than 200</td>\n",
       "    </tr>\n",
       "    <tr>\n",
       "      <th>1</th>\n",
       "      <td>Failed</td>\n",
       "      <td>spend_value range less than 400</td>\n",
       "    </tr>\n",
       "  </tbody>\n",
       "</table>\n",
       "</div>"
      ],
      "text/plain": [
       "   Result                                Test\n",
       "0  Failed  spend_value range greater than 200\n",
       "1  Failed     spend_value range less than 400"
      ]
     },
     "execution_count": 17,
     "metadata": {},
     "output_type": "execute_result"
    }
   ],
   "source": [
    "#agg_check(data_frame,\"spend_value\",[200,400],'range')\n",
    "time_frame, agg_output = Check_with_time(data_frame,\"aggregate\",\"spend_value\",[],[200,400],\"range\")\n",
    "final_time_frame =  final_time_frame.append(time_frame)\n",
    "agg_output"
   ]
  },
  {
   "cell_type": "code",
   "execution_count": 18,
   "metadata": {},
   "outputs": [
    {
     "data": {
      "text/html": [
       "<div>\n",
       "<style scoped>\n",
       "    .dataframe tbody tr th:only-of-type {\n",
       "        vertical-align: middle;\n",
       "    }\n",
       "\n",
       "    .dataframe tbody tr th {\n",
       "        vertical-align: top;\n",
       "    }\n",
       "\n",
       "    .dataframe thead th {\n",
       "        text-align: right;\n",
       "    }\n",
       "</style>\n",
       "<table border=\"1\" class=\"dataframe\">\n",
       "  <thead>\n",
       "    <tr style=\"text-align: right;\">\n",
       "      <th></th>\n",
       "      <th>Result</th>\n",
       "      <th>Test</th>\n",
       "    </tr>\n",
       "  </thead>\n",
       "  <tbody>\n",
       "    <tr>\n",
       "      <th>0</th>\n",
       "      <td>Failed</td>\n",
       "      <td>purchase_date range greater than 2018-08-02</td>\n",
       "    </tr>\n",
       "    <tr>\n",
       "      <th>1</th>\n",
       "      <td>Failed</td>\n",
       "      <td>purchase_date range less than 2018-12-01</td>\n",
       "    </tr>\n",
       "  </tbody>\n",
       "</table>\n",
       "</div>"
      ],
      "text/plain": [
       "   Result                                         Test\n",
       "0  Failed  purchase_date range greater than 2018-08-02\n",
       "1  Failed     purchase_date range less than 2018-12-01"
      ]
     },
     "execution_count": 18,
     "metadata": {},
     "output_type": "execute_result"
    }
   ],
   "source": [
    "#agg_check(data_frame,\"processing_date\",['2018-08-02','2018-12-01'],'range')\n",
    "time_frame, agg_output = Check_with_time(data_frame,\"aggregate\",\"purchase_date\",[],['2018-08-02','2018-12-01'],\"range\")\n",
    "final_time_frame =  final_time_frame.append(time_frame)\n",
    "agg_output"
   ]
  },
  {
   "cell_type": "code",
   "execution_count": 19,
   "metadata": {},
   "outputs": [
    {
     "data": {
      "text/html": [
       "<div>\n",
       "<style scoped>\n",
       "    .dataframe tbody tr th:only-of-type {\n",
       "        vertical-align: middle;\n",
       "    }\n",
       "\n",
       "    .dataframe tbody tr th {\n",
       "        vertical-align: top;\n",
       "    }\n",
       "\n",
       "    .dataframe thead th {\n",
       "        text-align: right;\n",
       "    }\n",
       "</style>\n",
       "<table border=\"1\" class=\"dataframe\">\n",
       "  <thead>\n",
       "    <tr style=\"text-align: right;\">\n",
       "      <th></th>\n",
       "      <th>Result</th>\n",
       "      <th>Test</th>\n",
       "    </tr>\n",
       "  </thead>\n",
       "  <tbody>\n",
       "    <tr>\n",
       "      <th>0</th>\n",
       "      <td>Failed</td>\n",
       "      <td>spend_value sum less than 100</td>\n",
       "    </tr>\n",
       "    <tr>\n",
       "      <th>1</th>\n",
       "      <td>Passed</td>\n",
       "      <td>spend_value sum greater than 20</td>\n",
       "    </tr>\n",
       "  </tbody>\n",
       "</table>\n",
       "</div>"
      ],
      "text/plain": [
       "   Result                             Test\n",
       "0  Failed    spend_value sum less than 100\n",
       "1  Passed  spend_value sum greater than 20"
      ]
     },
     "execution_count": 19,
     "metadata": {},
     "output_type": "execute_result"
    }
   ],
   "source": [
    "#agg_check(data_frame,\"spend_value\",[100,20],\"sum\")\n",
    "time_frame, agg_output = Check_with_time(data_frame,\"aggregate\",\"spend_value\",[],[100,20],\"sum\")\n",
    "final_time_frame =  final_time_frame.append(time_frame)\n",
    "agg_output"
   ]
  },
  {
   "cell_type": "markdown",
   "metadata": {},
   "source": [
    "### Groupby module - for aggregate stats of a column on group by of selected columns\n",
    "* ** with group of selected columns -** ``` groupby_check(data_frame,[col1,col2....],[col1,col2,col3.....],function)```\n",
    "* ** At column level (with no groupby) - ** ```groupby_check(data_frame,[col1,col2,col3...],[],function)```\n",
    "    * supported functions are sum,count,mean\n",
    "    * groupby_check syntax order : *groupby_check(data_frame, desired_column_list, groupby_columns_list, function)*"
   ]
  },
  {
   "cell_type": "code",
   "execution_count": 21,
   "metadata": {
    "scrolled": true
   },
   "outputs": [
    {
     "data": {
      "text/html": [
       "<div>\n",
       "<style scoped>\n",
       "    .dataframe tbody tr th:only-of-type {\n",
       "        vertical-align: middle;\n",
       "    }\n",
       "\n",
       "    .dataframe tbody tr th {\n",
       "        vertical-align: top;\n",
       "    }\n",
       "\n",
       "    .dataframe thead th {\n",
       "        text-align: right;\n",
       "    }\n",
       "</style>\n",
       "<table border=\"1\" class=\"dataframe\">\n",
       "  <thead>\n",
       "    <tr style=\"text-align: right;\">\n",
       "      <th></th>\n",
       "      <th>spend_value</th>\n",
       "      <th>quantity</th>\n",
       "    </tr>\n",
       "    <tr>\n",
       "      <th>customer_id</th>\n",
       "      <th></th>\n",
       "      <th></th>\n",
       "    </tr>\n",
       "  </thead>\n",
       "  <tbody>\n",
       "    <tr>\n",
       "      <th>75013356</th>\n",
       "      <td>241.5000</td>\n",
       "      <td>11</td>\n",
       "    </tr>\n",
       "    <tr>\n",
       "      <th>75013360</th>\n",
       "      <td>124.0000</td>\n",
       "      <td>7</td>\n",
       "    </tr>\n",
       "    <tr>\n",
       "      <th>75013362</th>\n",
       "      <td>50.0000</td>\n",
       "      <td>1</td>\n",
       "    </tr>\n",
       "    <tr>\n",
       "      <th>75013364</th>\n",
       "      <td>9.0000</td>\n",
       "      <td>1</td>\n",
       "    </tr>\n",
       "    <tr>\n",
       "      <th>75013370</th>\n",
       "      <td>10.0000</td>\n",
       "      <td>1</td>\n",
       "    </tr>\n",
       "    <tr>\n",
       "      <th>75013374</th>\n",
       "      <td>567.0000</td>\n",
       "      <td>17</td>\n",
       "    </tr>\n",
       "    <tr>\n",
       "      <th>75013376</th>\n",
       "      <td>167.0000</td>\n",
       "      <td>13</td>\n",
       "    </tr>\n",
       "    <tr>\n",
       "      <th>75013384</th>\n",
       "      <td>136.5000</td>\n",
       "      <td>9</td>\n",
       "    </tr>\n",
       "    <tr>\n",
       "      <th>75013666</th>\n",
       "      <td>12.0000</td>\n",
       "      <td>1</td>\n",
       "    </tr>\n",
       "    <tr>\n",
       "      <th>75013801</th>\n",
       "      <td>184.0000</td>\n",
       "      <td>9</td>\n",
       "    </tr>\n",
       "    <tr>\n",
       "      <th>75013804</th>\n",
       "      <td>535.0000</td>\n",
       "      <td>4</td>\n",
       "    </tr>\n",
       "    <tr>\n",
       "      <th>75014283</th>\n",
       "      <td>86.5000</td>\n",
       "      <td>6</td>\n",
       "    </tr>\n",
       "    <tr>\n",
       "      <th>75016373</th>\n",
       "      <td>181.0000</td>\n",
       "      <td>9</td>\n",
       "    </tr>\n",
       "    <tr>\n",
       "      <th>75016721</th>\n",
       "      <td>286.6500</td>\n",
       "      <td>11</td>\n",
       "    </tr>\n",
       "    <tr>\n",
       "      <th>75016723</th>\n",
       "      <td>324.4458</td>\n",
       "      <td>11</td>\n",
       "    </tr>\n",
       "    <tr>\n",
       "      <th>75016726</th>\n",
       "      <td>22.0500</td>\n",
       "      <td>8</td>\n",
       "    </tr>\n",
       "    <tr>\n",
       "      <th>75016730</th>\n",
       "      <td>52.5000</td>\n",
       "      <td>2</td>\n",
       "    </tr>\n",
       "    <tr>\n",
       "      <th>75016738</th>\n",
       "      <td>493.6950</td>\n",
       "      <td>3</td>\n",
       "    </tr>\n",
       "    <tr>\n",
       "      <th>75016745</th>\n",
       "      <td>32.1873</td>\n",
       "      <td>4</td>\n",
       "    </tr>\n",
       "    <tr>\n",
       "      <th>75016751</th>\n",
       "      <td>391.8000</td>\n",
       "      <td>19</td>\n",
       "    </tr>\n",
       "    <tr>\n",
       "      <th>75016760</th>\n",
       "      <td>640.3248</td>\n",
       "      <td>18</td>\n",
       "    </tr>\n",
       "    <tr>\n",
       "      <th>75016767</th>\n",
       "      <td>15.2640</td>\n",
       "      <td>1</td>\n",
       "    </tr>\n",
       "    <tr>\n",
       "      <th>75016769</th>\n",
       "      <td>52.5960</td>\n",
       "      <td>4</td>\n",
       "    </tr>\n",
       "    <tr>\n",
       "      <th>75016771</th>\n",
       "      <td>75.4850</td>\n",
       "      <td>6</td>\n",
       "    </tr>\n",
       "    <tr>\n",
       "      <th>75016773</th>\n",
       "      <td>48.8400</td>\n",
       "      <td>6</td>\n",
       "    </tr>\n",
       "    <tr>\n",
       "      <th>75016912</th>\n",
       "      <td>1024.4430</td>\n",
       "      <td>21</td>\n",
       "    </tr>\n",
       "    <tr>\n",
       "      <th>75018489</th>\n",
       "      <td>30.0000</td>\n",
       "      <td>1</td>\n",
       "    </tr>\n",
       "    <tr>\n",
       "      <th>75019730</th>\n",
       "      <td>2108.3300</td>\n",
       "      <td>11</td>\n",
       "    </tr>\n",
       "    <tr>\n",
       "      <th>75023557</th>\n",
       "      <td>109.7100</td>\n",
       "      <td>3</td>\n",
       "    </tr>\n",
       "  </tbody>\n",
       "</table>\n",
       "</div>"
      ],
      "text/plain": [
       "             spend_value  quantity\n",
       "customer_id                       \n",
       "75013356        241.5000        11\n",
       "75013360        124.0000         7\n",
       "75013362         50.0000         1\n",
       "75013364          9.0000         1\n",
       "75013370         10.0000         1\n",
       "75013374        567.0000        17\n",
       "75013376        167.0000        13\n",
       "75013384        136.5000         9\n",
       "75013666         12.0000         1\n",
       "75013801        184.0000         9\n",
       "75013804        535.0000         4\n",
       "75014283         86.5000         6\n",
       "75016373        181.0000         9\n",
       "75016721        286.6500        11\n",
       "75016723        324.4458        11\n",
       "75016726         22.0500         8\n",
       "75016730         52.5000         2\n",
       "75016738        493.6950         3\n",
       "75016745         32.1873         4\n",
       "75016751        391.8000        19\n",
       "75016760        640.3248        18\n",
       "75016767         15.2640         1\n",
       "75016769         52.5960         4\n",
       "75016771         75.4850         6\n",
       "75016773         48.8400         6\n",
       "75016912       1024.4430        21\n",
       "75018489         30.0000         1\n",
       "75019730       2108.3300        11\n",
       "75023557        109.7100         3"
      ]
     },
     "execution_count": 21,
     "metadata": {},
     "output_type": "execute_result"
    }
   ],
   "source": [
    "#groupby_check(data_frame,[\"spend_value\",\"quantity\"],[\"store_id\"],\"sum\")\n",
    "time_frame, group_output = Check_with_time(data_frame,\"groupby\",[\"spend_value\",\"quantity\"],[\"customer_id\"],[],\"sum\")\n",
    "#final_time_frame =  final_time_frame.append(time_frame)\n",
    "group_output"
   ]
  },
  {
   "cell_type": "code",
   "execution_count": 22,
   "metadata": {
    "scrolled": true
   },
   "outputs": [
    {
     "data": {
      "text/html": [
       "<div>\n",
       "<style scoped>\n",
       "    .dataframe tbody tr th:only-of-type {\n",
       "        vertical-align: middle;\n",
       "    }\n",
       "\n",
       "    .dataframe tbody tr th {\n",
       "        vertical-align: top;\n",
       "    }\n",
       "\n",
       "    .dataframe thead th {\n",
       "        text-align: right;\n",
       "    }\n",
       "</style>\n",
       "<table border=\"1\" class=\"dataframe\">\n",
       "  <thead>\n",
       "    <tr style=\"text-align: right;\">\n",
       "      <th></th>\n",
       "      <th>column</th>\n",
       "      <th>sum</th>\n",
       "    </tr>\n",
       "  </thead>\n",
       "  <tbody>\n",
       "    <tr>\n",
       "      <th>0</th>\n",
       "      <td>spend_value</td>\n",
       "      <td>8011.8209</td>\n",
       "    </tr>\n",
       "    <tr>\n",
       "      <th>0</th>\n",
       "      <td>quantity</td>\n",
       "      <td>218.0000</td>\n",
       "    </tr>\n",
       "  </tbody>\n",
       "</table>\n",
       "</div>"
      ],
      "text/plain": [
       "        column        sum\n",
       "0  spend_value  8011.8209\n",
       "0     quantity   218.0000"
      ]
     },
     "execution_count": 22,
     "metadata": {},
     "output_type": "execute_result"
    }
   ],
   "source": [
    "#groupby_check(data_frame,[\"spend_value\",\"quantity\"],[],\"sum\")\n",
    "time_frame, group_output = Check_with_time(data_frame,\"groupby\",[\"spend_value\",\"quantity\"],[],[],\"sum\")\n",
    "#final_time_frame =  final_time_frame.append(time_frame)\n",
    "group_output"
   ]
  },
  {
   "cell_type": "code",
   "execution_count": 23,
   "metadata": {},
   "outputs": [
    {
     "data": {
      "text/html": [
       "<h2 align='center'>Job status and details</h2>"
      ],
      "text/plain": [
       "<IPython.core.display.HTML object>"
      ]
     },
     "metadata": {},
     "output_type": "display_data"
    },
    {
     "data": {
      "image/png": "[encoded data removed]",
      "text/plain": [
       "<Figure size 432x288 with 1 Axes>"
      ]
     },
     "metadata": {},
     "output_type": "display_data"
    },
    {
     "data": {
      "text/html": [
       "<div>\n",
       "<style scoped>\n",
       "    .dataframe tbody tr th:only-of-type {\n",
       "        vertical-align: middle;\n",
       "    }\n",
       "\n",
       "    .dataframe tbody tr th {\n",
       "        vertical-align: top;\n",
       "    }\n",
       "\n",
       "    .dataframe thead th {\n",
       "        text-align: right;\n",
       "    }\n",
       "</style>\n",
       "<table border=\"1\" class=\"dataframe\">\n",
       "  <thead>\n",
       "    <tr style=\"text-align: right;\">\n",
       "      <th></th>\n",
       "      <th>Result</th>\n",
       "      <th>Test</th>\n",
       "      <th>Time</th>\n",
       "    </tr>\n",
       "  </thead>\n",
       "  <tbody>\n",
       "    <tr>\n",
       "      <th>0</th>\n",
       "      <td>Passed</td>\n",
       "      <td>check format of purchase_date is %m/%d/%Y</td>\n",
       "      <td>0.054669</td>\n",
       "    </tr>\n",
       "    <tr>\n",
       "      <th>1</th>\n",
       "      <td>Failed</td>\n",
       "      <td>spend_value range greater than 200</td>\n",
       "      <td>0.039141</td>\n",
       "    </tr>\n",
       "    <tr>\n",
       "      <th>2</th>\n",
       "      <td>Failed</td>\n",
       "      <td>spend_value range less than 400</td>\n",
       "      <td>0.039141</td>\n",
       "    </tr>\n",
       "    <tr>\n",
       "      <th>3</th>\n",
       "      <td>Failed</td>\n",
       "      <td>purchase_date range greater than 2018-08-02</td>\n",
       "      <td>0.254778</td>\n",
       "    </tr>\n",
       "    <tr>\n",
       "      <th>4</th>\n",
       "      <td>Failed</td>\n",
       "      <td>purchase_date range less than 2018-12-01</td>\n",
       "      <td>0.254778</td>\n",
       "    </tr>\n",
       "    <tr>\n",
       "      <th>5</th>\n",
       "      <td>Failed</td>\n",
       "      <td>spend_value sum less than 100</td>\n",
       "      <td>0.001895</td>\n",
       "    </tr>\n",
       "    <tr>\n",
       "      <th>6</th>\n",
       "      <td>Passed</td>\n",
       "      <td>spend_value sum greater than 20</td>\n",
       "      <td>0.001895</td>\n",
       "    </tr>\n",
       "  </tbody>\n",
       "</table>\n",
       "</div>"
      ],
      "text/plain": [
       "   Result                                         Test      Time\n",
       "0  Passed   check format of purchase_date is %m/%d/%Y   0.054669\n",
       "1  Failed           spend_value range greater than 200  0.039141\n",
       "2  Failed              spend_value range less than 400  0.039141\n",
       "3  Failed  purchase_date range greater than 2018-08-02  0.254778\n",
       "4  Failed     purchase_date range less than 2018-12-01  0.254778\n",
       "5  Failed                spend_value sum less than 100  0.001895\n",
       "6  Passed              spend_value sum greater than 20  0.001895"
      ]
     },
     "metadata": {},
     "output_type": "display_data"
    },
    {
     "data": {
      "text/html": [
       "<h4>file summary</h4>"
      ],
      "text/plain": [
       "<IPython.core.display.HTML object>"
      ]
     },
     "metadata": {},
     "output_type": "display_data"
    },
    {
     "data": {
      "text/html": [
       "<div>\n",
       "<style scoped>\n",
       "    .dataframe tbody tr th:only-of-type {\n",
       "        vertical-align: middle;\n",
       "    }\n",
       "\n",
       "    .dataframe tbody tr th {\n",
       "        vertical-align: top;\n",
       "    }\n",
       "\n",
       "    .dataframe thead th {\n",
       "        text-align: right;\n",
       "    }\n",
       "</style>\n",
       "<table border=\"1\" class=\"dataframe\">\n",
       "  <thead>\n",
       "    <tr style=\"text-align: right;\">\n",
       "      <th></th>\n",
       "      <th>Name of file</th>\n",
       "      <th>Size of file(bytes)</th>\n",
       "      <th>Total time</th>\n",
       "    </tr>\n",
       "  </thead>\n",
       "  <tbody>\n",
       "    <tr>\n",
       "      <th>0</th>\n",
       "      <td>transaction.csv</td>\n",
       "      <td>10655</td>\n",
       "      <td>0.646297</td>\n",
       "    </tr>\n",
       "  </tbody>\n",
       "</table>\n",
       "</div>"
      ],
      "text/plain": [
       "      Name of file  Size of file(bytes)  Total time\n",
       "0  transaction.csv                10655    0.646297"
      ]
     },
     "metadata": {},
     "output_type": "display_data"
    }
   ],
   "source": [
    "plot = test_status_plot(final_time_frame)\n",
    "display(HTML(\"<h2 align='center'>Job status and details</h2>\"))\n",
    "plot.show()\n",
    "display(final_time_frame.reset_index(drop=True))\n",
    "display(HTML(\"<h4>file summary</h4>\"))\n",
    "display(notebook_summary(file_path,final_time_frame))"
   ]
  },
  {
   "cell_type": "code",
   "execution_count": null,
   "metadata": {},
   "outputs": [],
   "source": []
  }
 ],
 "metadata": {
  "kernelspec": {
   "display_name": "Python 2",
   "language": "python",
   "name": "python2"
  },
  "language_info": {
   "codemirror_mode": {
    "name": "ipython",
    "version": 2
   },
   "file_extension": ".py",
   "mimetype": "text/x-python",
   "name": "python",
   "nbconvert_exporter": "python",
   "pygments_lexer": "ipython2",
   "version": "2.7.12"
  }
 },
 "nbformat": 4,
 "nbformat_minor": 2
}
